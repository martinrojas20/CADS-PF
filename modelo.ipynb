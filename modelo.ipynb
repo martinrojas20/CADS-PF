{
 "cells": [
  {
   "cell_type": "markdown",
   "metadata": {},
   "source": [
    "# Modelo de recomendacion"
   ]
  },
  {
   "cell_type": "markdown",
   "metadata": {},
   "source": [
    "A partir de la libreria Surprice, usamos el algoritmo de KNnWhitMeans, que en su caja negra lo que hace es construir una matriz a partir de los ratings puestos por los usuario\n",
    "sobre los productos. Calcula la distancia por coseno entre vectores(rating) para ponerle valor numerico a la relacion para poder recomendar en base a los productos."
   ]
  },
  {
   "cell_type": "code",
   "execution_count": null,
   "metadata": {},
   "outputs": [],
   "source": [
    "! pip install scikit-surprise"
   ]
  },
  {
   "cell_type": "code",
   "execution_count": 1,
   "metadata": {},
   "outputs": [],
   "source": [
    "import pandas as pd\n",
    "from pyspark.sql import SparkSession \n",
    "import numpy as np\n",
    "from pyspark.sql import functions as F\n",
    "from pyspark.sql.functions import col, udf, desc"
   ]
  },
  {
   "cell_type": "code",
   "execution_count": 2,
   "metadata": {},
   "outputs": [],
   "source": [
    "from surprise import Reader\n",
    "from surprise import Dataset\n",
    "from surprise import accuracy\n",
    "from surprise.model_selection import cross_validate\n",
    "from surprise.model_selection import train_test_split\n",
    "from surprise.model_selection import GridSearchCV\n",
    "from pyspark.sql.types import DoubleType, IntegerType, StringType, FloatType\n",
    "from surprise import SVD, SVDpp, NMF, SlopeOne, CoClustering, KNNBaseline, KNNWithZScore, KNNWithMeans, KNNBasic, BaselineOnly, NormalPredictor\n",
    "\n"
   ]
  },
  {
   "cell_type": "code",
   "execution_count": 3,
   "metadata": {},
   "outputs": [],
   "source": [
    "#Iniciamos sesion en Spark\n",
    "spark = SparkSession.builder.appName('sent').getOrCreate()"
   ]
  },
  {
   "cell_type": "code",
   "execution_count": 4,
   "metadata": {},
   "outputs": [],
   "source": [
    "#leemos el dataset\n",
    "dfspark = spark.read.json('../common/final')"
   ]
  },
  {
   "cell_type": "code",
   "execution_count": 19,
   "metadata": {},
   "outputs": [
    {
     "name": "stdout",
     "output_type": "stream",
     "text": [
      "+-------+----------+------------+------+----------+------+--------------------+----------+-------------+---------+---------------+\n",
      "|calidad|categories|facilidadUso|precio| productId|rating|             related|reviewTime|   reviewerId|sentiment|          title|\n",
      "+-------+----------+------------+------+----------+------+--------------------+----------+-------------+---------+---------------+\n",
      "|      0|     Books|           1|     0|0002216973|     5|, 0812823354, 006...|2012-09-03|AESMLAZX4PI6L|        5|Red Adam's Lady|\n",
      "|      0|     Books|           0|     0|0002216973|     5|, 0812823354, 006...|2009-06-18|AMVV8VYDTLA78|        5|Red Adam's Lady|\n",
      "+-------+----------+------------+------+----------+------+--------------------+----------+-------------+---------+---------------+\n",
      "only showing top 2 rows\n",
      "\n"
     ]
    }
   ],
   "source": [
    "dfspark.show(2)"
   ]
  },
  {
   "cell_type": "code",
   "execution_count": 5,
   "metadata": {},
   "outputs": [],
   "source": [
    "#Definimos una funcion que va a servir para crear un columna nueva\n",
    "def prom_rating(val, val1):\n",
    "    ''' Calcula el valor pormedio entre dos valores '''\n",
    "    return (val + val1)/2   "
   ]
  },
  {
   "cell_type": "code",
   "execution_count": 6,
   "metadata": {},
   "outputs": [],
   "source": [
    "col_new = udf(prom_rating)"
   ]
  },
  {
   "cell_type": "code",
   "execution_count": 7,
   "metadata": {},
   "outputs": [],
   "source": [
    "#Creamos una columna nueva que promedia el ranking dado por el usuario y el establecido por el analizis de testo\n",
    "dfspark = dfspark.withColumn(\"average_ranq\", col_new(col(\"sentiment\"), col('rating')))"
   ]
  },
  {
   "cell_type": "code",
   "execution_count": 8,
   "metadata": {},
   "outputs": [],
   "source": [
    "#Lista de los productos con mas reviews\n",
    "mejores_productos_más_calificados = dfspark.groupBy('categories','productId').count().sort(F.col(\"count\").desc()).limit(7000)\n"
   ]
  },
  {
   "cell_type": "code",
   "execution_count": 63,
   "metadata": {},
   "outputs": [
    {
     "name": "stdout",
     "output_type": "stream",
     "text": [
      "+--------------------+-----+\n",
      "|          categories|count|\n",
      "+--------------------+-----+\n",
      "|               Books| 1409|\n",
      "|         Electronics|  965|\n",
      "|      Home & Kitchen|  483|\n",
      "|         Movies & TV|  328|\n",
      "|Cell Phones & Acc...|  318|\n",
      "|Health & Personal...|  294|\n",
      "|            Clothing|  158|\n",
      "|   Sports & Outdoors|  158|\n",
      "|        Pet Supplies|  149|\n",
      "|                Baby|  123|\n",
      "|     Office Products|  100|\n",
      "|Tools & Home Impr...|  100|\n",
      "|              Beauty|   99|\n",
      "|Grocery & Gourmet...|   83|\n",
      "|        Toys & Games|   62|\n",
      "|               Patio|   45|\n",
      "|         CDs & Vinyl|   41|\n",
      "|          Automotive|   32|\n",
      "|                Arts|   28|\n",
      "|     Digital Content|   12|\n",
      "|Industrial & Scie...|   11|\n",
      "|               Other|    2|\n",
      "+--------------------+-----+\n",
      "\n"
     ]
    }
   ],
   "source": [
    "mejores_productos_más_calificados.groupBy('categories').count().sort(F.col('count').desc()).show(30)"
   ]
  },
  {
   "cell_type": "code",
   "execution_count": 9,
   "metadata": {},
   "outputs": [],
   "source": [
    "productos = mejores_productos_más_calificados.select('productId').rdd.flatMap(lambda x: x).collect()"
   ]
  },
  {
   "cell_type": "code",
   "execution_count": 10,
   "metadata": {},
   "outputs": [],
   "source": [
    "#Seleccionamos los campos a utilizar\n",
    "dfspark1 = dfspark.select('productId', 'reviewerId', 'average_ranq')"
   ]
  },
  {
   "cell_type": "code",
   "execution_count": 11,
   "metadata": {},
   "outputs": [],
   "source": [
    "#Filtramos el dataframe con los productos con mas reviews\n",
    "dfsparkFiltro = dfspark1.filter((dfspark.productId).isin(productos))"
   ]
  },
  {
   "cell_type": "code",
   "execution_count": 68,
   "metadata": {},
   "outputs": [
    {
     "data": {
      "text/plain": [
       "10000"
      ]
     },
     "execution_count": 68,
     "metadata": {},
     "output_type": "execute_result"
    }
   ],
   "source": [
    "len(productos)"
   ]
  },
  {
   "cell_type": "code",
   "execution_count": 12,
   "metadata": {},
   "outputs": [],
   "source": [
    "#Cambiamos los nombres de los campos para que el modelo los pueda procesar\n",
    "modelo = dfsparkFiltro.withColumnRenamed('reviewerId', 'user').withColumnRenamed('productId','item').withColumnRenamed('average_ranq', 'rating')"
   ]
  },
  {
   "cell_type": "code",
   "execution_count": 13,
   "metadata": {},
   "outputs": [],
   "source": [
    "#Cambiamos el tipo de dato de la columna 'rating'\n",
    "modelo = modelo.withColumn('rating', F.col('rating').cast(FloatType()))"
   ]
  },
  {
   "cell_type": "code",
   "execution_count": 14,
   "metadata": {},
   "outputs": [],
   "source": [
    "#Hacemos dos listas\n",
    "users = modelo.select('user').distinct()\n",
    "items = modelo.select('item').distinct()\n",
    "users = users.select('user').rdd.flatMap(lambda x: x).collect()\n",
    "items = items.select('item').rdd.flatMap(lambda x: x).collect()\n"
   ]
  },
  {
   "cell_type": "code",
   "execution_count": 17,
   "metadata": {},
   "outputs": [
    {
     "data": {
      "text/plain": [
       "10000"
      ]
     },
     "execution_count": 17,
     "metadata": {},
     "output_type": "execute_result"
    }
   ],
   "source": [
    "len(items)"
   ]
  },
  {
   "cell_type": "code",
   "execution_count": 18,
   "metadata": {},
   "outputs": [
    {
     "data": {
      "text/plain": [
       "2004426"
      ]
     },
     "execution_count": 18,
     "metadata": {},
     "output_type": "execute_result"
    }
   ],
   "source": [
    "len(users)"
   ]
  },
  {
   "cell_type": "code",
   "execution_count": 15,
   "metadata": {},
   "outputs": [],
   "source": [
    "#Fortalecemos la conexion de PySpark con Pandas\n",
    "spark.conf.set(\"spark.sql.execution.arrow.pyspark.enabled\", \"true\")"
   ]
  },
  {
   "cell_type": "code",
   "execution_count": 16,
   "metadata": {},
   "outputs": [],
   "source": [
    "#Pasamos el dataframe a Pandas\n",
    "df_pd = modelo.toPandas()"
   ]
  },
  {
   "cell_type": "code",
   "execution_count": 21,
   "metadata": {},
   "outputs": [
    {
     "data": {
      "text/html": [
       "<div>\n",
       "<style scoped>\n",
       "    .dataframe tbody tr th:only-of-type {\n",
       "        vertical-align: middle;\n",
       "    }\n",
       "\n",
       "    .dataframe tbody tr th {\n",
       "        vertical-align: top;\n",
       "    }\n",
       "\n",
       "    .dataframe thead th {\n",
       "        text-align: right;\n",
       "    }\n",
       "</style>\n",
       "<table border=\"1\" class=\"dataframe\">\n",
       "  <thead>\n",
       "    <tr style=\"text-align: right;\">\n",
       "      <th></th>\n",
       "      <th>item</th>\n",
       "      <th>user</th>\n",
       "      <th>rating</th>\n",
       "    </tr>\n",
       "  </thead>\n",
       "  <tbody>\n",
       "    <tr>\n",
       "      <th>0</th>\n",
       "      <td>0006476155</td>\n",
       "      <td>A3DN4XF7RS53A</td>\n",
       "      <td>5.0</td>\n",
       "    </tr>\n",
       "    <tr>\n",
       "      <th>1</th>\n",
       "      <td>0006476155</td>\n",
       "      <td>ANYRXHDVOVS17</td>\n",
       "      <td>5.0</td>\n",
       "    </tr>\n",
       "    <tr>\n",
       "      <th>2</th>\n",
       "      <td>0006476155</td>\n",
       "      <td>AT2J7H5TRZM8Z</td>\n",
       "      <td>3.0</td>\n",
       "    </tr>\n",
       "    <tr>\n",
       "      <th>3</th>\n",
       "      <td>0006476155</td>\n",
       "      <td>A3A1E05J5PXADW</td>\n",
       "      <td>4.5</td>\n",
       "    </tr>\n",
       "    <tr>\n",
       "      <th>4</th>\n",
       "      <td>0006476155</td>\n",
       "      <td>ACCDXTBXVEC6S</td>\n",
       "      <td>5.0</td>\n",
       "    </tr>\n",
       "    <tr>\n",
       "      <th>...</th>\n",
       "      <td>...</td>\n",
       "      <td>...</td>\n",
       "      <td>...</td>\n",
       "    </tr>\n",
       "    <tr>\n",
       "      <th>5414484</th>\n",
       "      <td>B00FJJ38HY</td>\n",
       "      <td>A19YUII8E4HLTD</td>\n",
       "      <td>5.0</td>\n",
       "    </tr>\n",
       "    <tr>\n",
       "      <th>5414485</th>\n",
       "      <td>B00FJJ38HY</td>\n",
       "      <td>A6RX52LSCQ6HR</td>\n",
       "      <td>4.5</td>\n",
       "    </tr>\n",
       "    <tr>\n",
       "      <th>5414486</th>\n",
       "      <td>B00FJJ38HY</td>\n",
       "      <td>AKPABVEJHJW1R</td>\n",
       "      <td>5.0</td>\n",
       "    </tr>\n",
       "    <tr>\n",
       "      <th>5414487</th>\n",
       "      <td>B00FJJ38HY</td>\n",
       "      <td>A3R0YYKNN0ZD61</td>\n",
       "      <td>3.5</td>\n",
       "    </tr>\n",
       "    <tr>\n",
       "      <th>5414488</th>\n",
       "      <td>B00FJJ38HY</td>\n",
       "      <td>AFHIOQUNFP58</td>\n",
       "      <td>4.5</td>\n",
       "    </tr>\n",
       "  </tbody>\n",
       "</table>\n",
       "<p>5414489 rows × 3 columns</p>\n",
       "</div>"
      ],
      "text/plain": [
       "               item            user  rating\n",
       "0        0006476155   A3DN4XF7RS53A     5.0\n",
       "1        0006476155   ANYRXHDVOVS17     5.0\n",
       "2        0006476155   AT2J7H5TRZM8Z     3.0\n",
       "3        0006476155  A3A1E05J5PXADW     4.5\n",
       "4        0006476155   ACCDXTBXVEC6S     5.0\n",
       "...             ...             ...     ...\n",
       "5414484  B00FJJ38HY  A19YUII8E4HLTD     5.0\n",
       "5414485  B00FJJ38HY   A6RX52LSCQ6HR     4.5\n",
       "5414486  B00FJJ38HY   AKPABVEJHJW1R     5.0\n",
       "5414487  B00FJJ38HY  A3R0YYKNN0ZD61     3.5\n",
       "5414488  B00FJJ38HY    AFHIOQUNFP58     4.5\n",
       "\n",
       "[5414489 rows x 3 columns]"
      ]
     },
     "execution_count": 21,
     "metadata": {},
     "output_type": "execute_result"
    }
   ],
   "source": [
    "df_pd"
   ]
  },
  {
   "cell_type": "code",
   "execution_count": 17,
   "metadata": {},
   "outputs": [],
   "source": [
    "#Instanciamos el modelo\n",
    "sim_options = {\"name\": \"cosine\", \"user_based\": False,}\n",
    "\n",
    "algoritmo = KNNWithMeans(sim_options=sim_options)"
   ]
  },
  {
   "cell_type": "code",
   "execution_count": 18,
   "metadata": {},
   "outputs": [],
   "source": [
    "reader = Reader(rating_scale=(1, 5))"
   ]
  },
  {
   "cell_type": "code",
   "execution_count": 19,
   "metadata": {},
   "outputs": [],
   "source": [
    "data_n = Dataset.load_from_df(df_pd[[\"user\", \"item\", \"rating\"]], reader)"
   ]
  },
  {
   "cell_type": "code",
   "execution_count": 20,
   "metadata": {},
   "outputs": [],
   "source": [
    "#Definimos la matriz de entrenamiento\n",
    "trainingSet = data_n.build_full_trainset()"
   ]
  },
  {
   "cell_type": "code",
   "execution_count": 21,
   "metadata": {},
   "outputs": [
    {
     "name": "stdout",
     "output_type": "stream",
     "text": [
      "Computing the cosine similarity matrix...\n",
      "Done computing similarity matrix.\n"
     ]
    },
    {
     "data": {
      "text/plain": [
       "<surprise.prediction_algorithms.knns.KNNWithMeans at 0x7f246c589450>"
      ]
     },
     "execution_count": 21,
     "metadata": {},
     "output_type": "execute_result"
    }
   ],
   "source": [
    "algoritmo.fit(trainingSet)"
   ]
  },
  {
   "cell_type": "code",
   "execution_count": 34,
   "metadata": {},
   "outputs": [],
   "source": [
    "user = 'A3DN4XF7RS53A'"
   ]
  },
  {
   "cell_type": "code",
   "execution_count": 43,
   "metadata": {},
   "outputs": [],
   "source": [
    "#El modelo devuelvo los 5 productos mas recomendados para un usuario x\n",
    "def recomsnd_user(user):\n",
    "    recomend = []    \n",
    "    for item in items:\n",
    "        p1 = algoritmo.predict(user, item[:50])\n",
    "        if p1.est > 1:\n",
    "            p2 = [p1.est , p1.iid]\n",
    "            recomend.append(p2)\n",
    "    recomend.sort()\n",
    "    return recomend[-10:]"
   ]
  },
  {
   "cell_type": "code",
   "execution_count": 44,
   "metadata": {},
   "outputs": [],
   "source": [
    "def item_id_to_name(prod_id):\n",
    "    name = dfspark.filter((dfspark.productId)==prod_id).collect()[0][10]    \n",
    "    return name"
   ]
  },
  {
   "cell_type": "code",
   "execution_count": 36,
   "metadata": {},
   "outputs": [],
   "source": [
    "def display(recomend): \n",
    "    con = 0\n",
    "    while con <= 4:\n",
    "        calification = recomend[-10:][con][0]\n",
    "        prod_id = recomend[-10:][con][1]\n",
    "        print(f'Para el usuario {user} la recomendación número {con+1} : {item_id_to_name(prod_id)}')\n",
    "        con += 1"
   ]
  },
  {
   "cell_type": "code",
   "execution_count": null,
   "metadata": {},
   "outputs": [
    {
     "name": "stdout",
     "output_type": "stream",
     "text": [
      "Para el usuario A3DN4XF7RS53A la recomendacion número 1 : Nexus 5 Case, Spigen Slim Armor Case for Nexus 5 - Retail Packaging - Smooth Black (SGP10569)\n",
      "Para el usuario A3DN4XF7RS53A la recomendacion número 2 : OMOTON Amazon Kindle Paperwhite Case Cover -- The Thinnest and Lightest PU leather Case Cover for Kindle Paperwhite (Both 2012 and 2013 versions with 6&quot; Display and Built-in Light), Black\n",
      "Para el usuario A3DN4XF7RS53A la recomendacion número 3 : TUDIA Ultra Slim Melody Series TPU Protective Case for LG (LG G2 (T-Mobile &amp; Sprint), Purple)\n",
      "Para el usuario A3DN4XF7RS53A la recomendacion número 4 : GoPro HERO3+: Silver Edition\n",
      "Para el usuario A3DN4XF7RS53A la recomendacion número 5 : Motorola Moto G - Global GSM - Unlocked - 8GB (Black)\n"
     ]
    }
   ],
   "source": [
    "recomend = recomsnd_user(user)\n",
    "display(recomend)"
   ]
  },
  {
   "cell_type": "code",
   "execution_count": null,
   "metadata": {},
   "outputs": [
    {
     "data": {
      "text/plain": [
       "'Along Came a Spider'"
      ]
     },
     "execution_count": 46,
     "metadata": {},
     "output_type": "execute_result"
    }
   ],
   "source": [
    "prod_id = '0006476155'\n",
    "item_id_to_name(prod_id)"
   ]
  },
  {
   "cell_type": "code",
   "execution_count": null,
   "metadata": {},
   "outputs": [
    {
     "name": "stdout",
     "output_type": "stream",
     "text": [
      "+---------------------------------------+\n",
      "|title                                  |\n",
      "+---------------------------------------+\n",
      "|Along Came a Spider                    |\n",
      "|Blood Secrets (The Vampire Legacy, #1) |\n",
      "|News from the Edge: Vampires of Vermont|\n",
      "|The Lord of the Rings                  |\n",
      "|Dawn Of The Vampire                    |\n",
      "|Bag of Bones                           |\n",
      "|Extreme Measures                       |\n",
      "|Single White Vampire Seeks Same        |\n",
      "|Johnny Tremain                         |\n",
      "|Superstition                           |\n",
      "+---------------------------------------+\n",
      "only showing top 10 rows\n",
      "\n"
     ]
    }
   ],
   "source": [
    "dfspark.filter(dfspark.reviewerId == user).select('title').show(10, truncate=False)"
   ]
  },
  {
   "cell_type": "code",
   "execution_count": null,
   "metadata": {},
   "outputs": [],
   "source": []
  }
 ],
 "metadata": {
  "kernelspec": {
   "display_name": "Python 3",
   "language": "python",
   "name": "python3"
  },
  "language_info": {
   "codemirror_mode": {
    "name": "ipython",
    "version": 3
   },
   "file_extension": ".py",
   "mimetype": "text/x-python",
   "name": "python",
   "nbconvert_exporter": "python",
   "pygments_lexer": "ipython3",
   "version": "3.7.4"
  },
  "vscode": {
   "interpreter": {
    "hash": "5b8cdd4f9a101fdd4557da0745686d41d9a3acecbeb7c45458d61a0a0b7bf82a"
   }
  }
 },
 "nbformat": 4,
 "nbformat_minor": 4
}
